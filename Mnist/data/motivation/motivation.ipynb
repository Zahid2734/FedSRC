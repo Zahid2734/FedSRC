{
 "cells": [
  {
   "cell_type": "code",
   "execution_count": 3,
   "id": "866f760d",
   "metadata": {},
   "outputs": [],
   "source": [
    "import pickle\n",
    "def save_file(file_name,data):\n",
    "    open_file = open(file_name, \"wb\")\n",
    "    pickle.dump(data, open_file)\n",
    "    open_file.close()\n",
    "\n",
    "def open_file(file_name):\n",
    "    open_file = open(file_name, \"rb\")\n",
    "    Dataset = pickle.load(open_file)\n",
    "    open_file.close()\n",
    "    return Dataset"
   ]
  },
  {
   "cell_type": "code",
   "execution_count": 5,
   "id": "73a8aa56",
   "metadata": {},
   "outputs": [],
   "source": [
    "file_name=\"fedavg Mnist noniid.pkl\"\n",
    "fedavg=open_file(file_name)"
   ]
  },
  {
   "cell_type": "code",
   "execution_count": 6,
   "id": "17e570a5",
   "metadata": {},
   "outputs": [
    {
     "name": "stdout",
     "output_type": "stream",
     "text": [
      "[200 210 211 213 221 227 229 232 235 241 244 247 250 251 254 258 259 261\n",
      " 264 268 272 275 276 277 279 280 282 283 284 295]\n"
     ]
    }
   ],
   "source": [
    "noise=fedavg[-2]+200\n",
    "print(noise)"
   ]
  },
  {
   "cell_type": "code",
   "execution_count": 7,
   "id": "d56668c2",
   "metadata": {},
   "outputs": [
    {
     "name": "stdout",
     "output_type": "stream",
     "text": [
      "[104 121 122 123 128 131 134 135 138 144 145 147 149 156 160 161 163 164\n",
      " 166 169 170 172 175 177 181 182 184 186 193 199]\n"
     ]
    }
   ],
   "source": [
    "shuffle=fedavg[-3]+100\n",
    "print(shuffle)"
   ]
  },
  {
   "cell_type": "code",
   "execution_count": 6,
   "id": "17b36c4e",
   "metadata": {},
   "outputs": [
    {
     "name": "stdout",
     "output_type": "stream",
     "text": [
      "[ 1  3  6 13 14 20 23 27 31 32 35 45 47 48 49 52 59 60 67 69 73 79 82 83\n",
      " 86 88 89 93 94 97]\n"
     ]
    }
   ],
   "source": [
    "flip=fedavg[-4]\n",
    "print(flip)"
   ]
  },
  {
   "cell_type": "code",
   "execution_count": 7,
   "id": "15ec7533",
   "metadata": {},
   "outputs": [],
   "source": [
    "loss_test=fedavg[3][-1]\n"
   ]
  },
  {
   "cell_type": "code",
   "execution_count": 8,
   "id": "5495f51e",
   "metadata": {},
   "outputs": [],
   "source": [
    "loss_train=fedavg[5][-1]\n"
   ]
  },
  {
   "cell_type": "code",
   "execution_count": 9,
   "id": "b8e28720",
   "metadata": {},
   "outputs": [],
   "source": [
    "noiseplot=[loss_train[i] for i in noise]\n",
    "flipplot=[loss_train[i] for i in flip]\n",
    "shuffleplot=[loss_train[i] for i in shuffle]"
   ]
  },
  {
   "cell_type": "code",
   "execution_count": 10,
   "id": "872c0427",
   "metadata": {},
   "outputs": [],
   "source": [
    "\n",
    "result_list = []\n",
    "result_list.extend(shuffle)\n",
    "result_list.extend(flip)\n",
    "result_list.extend(noise)"
   ]
  },
  {
   "cell_type": "code",
   "execution_count": 11,
   "id": "28ca0e6f",
   "metadata": {},
   "outputs": [],
   "source": [
    "goodplot = [loss_train[i] for i in range(len(loss_train)) if i not in result_list]"
   ]
  },
  {
   "cell_type": "code",
   "execution_count": null,
   "id": "6e23c691",
   "metadata": {},
   "outputs": [],
   "source": [
    "import matplotlib.pyplot as plt\n",
    "import numpy as np\n",
    "import seaborn as sns\n",
    "\n",
    "# Sample data for two distributions\n",
    "data1 = np.random.normal(loc=0, scale=1, size=1000)\n",
    "data2 = np.random.normal(loc=2, scale=1, size=1000)\n",
    "data3 = np.random.normal(loc=1, scale=1, size=1000)\n",
    "\n",
    "# Create a histogram plot\n",
    "plt.figure(figsize=(8, 6))\n",
    "\n",
    "sns.histplot(noiseplot, color='blue', label='Nosiy', kde=True)\n",
    "sns.histplot(flipplot, color='orange', label='Flipping', kde=True)\n",
    "sns.histplot(shuffleplot, color='green', label='Shuffling', kde=True)\n",
    "sns.histplot(goodplot, color='red', label='Good', kde=True)\n",
    "\n",
    "plt.title('Two Distributions')\n",
    "plt.xlabel('Value')\n",
    "plt.ylabel('Frequency')\n",
    "plt.legend()\n",
    "plt.grid(True)\n",
    "plt.show()\n"
   ]
  }
 ],
 "metadata": {
  "kernelspec": {
   "display_name": "Python 3 (ipykernel)",
   "language": "python",
   "name": "python3"
  },
  "language_info": {
   "codemirror_mode": {
    "name": "ipython",
    "version": 3
   },
   "file_extension": ".py",
   "mimetype": "text/x-python",
   "name": "python",
   "nbconvert_exporter": "python",
   "pygments_lexer": "ipython3",
   "version": "3.9.12"
  }
 },
 "nbformat": 4,
 "nbformat_minor": 5
}
