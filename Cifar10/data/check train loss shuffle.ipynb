{
 "cells": [
  {
   "cell_type": "code",
   "execution_count": 1,
   "id": "3af766f9",
   "metadata": {},
   "outputs": [],
   "source": [
    "import matplotlib.pyplot as plt\n",
    "\n",
    "def plot_distribution(data):\n",
    "    plt.hist(data, bins='auto', alpha=0.7, rwidth=0.85)\n",
    "    plt.grid(axis='y', alpha=0.5)\n",
    "    plt.xlabel('Value')\n",
    "    plt.ylabel('Frequency')\n",
    "    plt.title('Distribution Plot')\n",
    "    plt.show()"
   ]
  },
  {
   "cell_type": "code",
   "execution_count": 3,
   "id": "7a946c16",
   "metadata": {},
   "outputs": [],
   "source": [
    "import pickle\n",
    "def save_file(file_name,data):\n",
    "    open_file = open(file_name, \"wb\")\n",
    "    pickle.dump(data, open_file)\n",
    "    open_file.close()\n",
    "\n",
    "def open_file(file_name):\n",
    "    open_file = open(file_name, \"rb\")\n",
    "    Dataset = pickle.load(open_file)\n",
    "    open_file.close()\n",
    "    return Dataset"
   ]
  },
  {
   "cell_type": "code",
   "execution_count": 4,
   "id": "a9e0012f",
   "metadata": {},
   "outputs": [],
   "source": [
    "file_name=\"../data/fedavg cifar10 iid shuffle.pkl\"\n",
    "fedavg=open_file(file_name)"
   ]
  },
  {
   "cell_type": "code",
   "execution_count": 5,
   "id": "de306b65",
   "metadata": {},
   "outputs": [
    {
     "data": {
      "image/png": "[encoded data removed]",
      "text/plain": [
       "<Figure size 432x288 with 1 Axes>"
      ]
     },
     "metadata": {
      "needs_background": "light"
     },
     "output_type": "display_data"
    },
    {
     "data": {
      "image/png": "[encoded data removed]",
      "text/plain": [
       "<Figure size 432x288 with 1 Axes>"
      ]
     },
     "metadata": {
      "needs_background": "light"
     },
     "output_type": "display_data"
    },
    {
     "name": "stdout",
     "output_type": "stream",
     "text": [
      "training mean 2.2683610200881956 standard deviation 0.028198012168683714\n",
      "testing mean 2.2507230281829833 standard deviation 0.026753993355799515\n"
     ]
    }
   ],
   "source": [
    "import numpy as np\n",
    "plot_distribution(fedavg[3][9])\n",
    "plot_distribution(fedavg[5][10])\n",
    "print('training mean', np.mean(fedavg[3][9]), 'standard deviation', np.std(fedavg[3][9]))\n",
    "print('testing mean', np.mean(fedavg[5][10]), 'standard deviation', np.std(fedavg[5][10]))\n"
   ]
  },
  {
   "cell_type": "code",
   "execution_count": 7,
   "id": "c5a83043",
   "metadata": {},
   "outputs": [
    {
     "data": {
      "text/plain": [
       "11"
      ]
     },
     "execution_count": 7,
     "metadata": {},
     "output_type": "execute_result"
    }
   ],
   "source": [
    "len(fedavg[3])"
   ]
  },
  {
   "cell_type": "code",
   "execution_count": null,
   "id": "c4d98709",
   "metadata": {},
   "outputs": [],
   "source": []
  }
 ],
 "metadata": {
  "kernelspec": {
   "display_name": "Python 3 (ipykernel)",
   "language": "python",
   "name": "python3"
  },
  "language_info": {
   "codemirror_mode": {
    "name": "ipython",
    "version": 3
   },
   "file_extension": ".py",
   "mimetype": "text/x-python",
   "name": "python",
   "nbconvert_exporter": "python",
   "pygments_lexer": "ipython3",
   "version": "3.9.12"
  }
 },
 "nbformat": 4,
 "nbformat_minor": 5
}
