{
 "cells": [
  {
   "cell_type": "code",
   "execution_count": 62,
   "id": "500e7b90",
   "metadata": {},
   "outputs": [],
   "source": [
    "import pickle\n",
    "def save_file(file_name,data):\n",
    "    open_file = open(file_name, \"wb\")\n",
    "    pickle.dump(data, open_file)\n",
    "    open_file.close()\n",
    "\n",
    "def open_file(file_name):\n",
    "    open_file = open(file_name, \"rb\")\n",
    "    Dataset = pickle.load(open_file)\n",
    "    open_file.close()\n",
    "    return Dataset"
   ]
  },
  {
   "cell_type": "code",
   "execution_count": 64,
   "id": "eb3e703a",
   "metadata": {},
   "outputs": [
    {
     "ename": "FileNotFoundError",
     "evalue": "[Errno 2] No such file or directory: 'fedavg Mnist noniid.pkl'",
     "output_type": "error",
     "traceback": [
      "\u001b[1;31m---------------------------------------------------------------------------\u001b[0m",
      "\u001b[1;31mFileNotFoundError\u001b[0m                         Traceback (most recent call last)",
      "Input \u001b[1;32mIn [64]\u001b[0m, in \u001b[0;36m<cell line: 2>\u001b[1;34m()\u001b[0m\n\u001b[0;32m      1\u001b[0m file_name\u001b[38;5;241m=\u001b[39m\u001b[38;5;124m\"\u001b[39m\u001b[38;5;124mfedavg Mnist noniid.pkl\u001b[39m\u001b[38;5;124m\"\u001b[39m\n\u001b[1;32m----> 2\u001b[0m fedavg\u001b[38;5;241m=\u001b[39m\u001b[43mopen_file\u001b[49m\u001b[43m(\u001b[49m\u001b[43mfile_name\u001b[49m\u001b[43m)\u001b[49m\n",
      "Input \u001b[1;32mIn [62]\u001b[0m, in \u001b[0;36mopen_file\u001b[1;34m(file_name)\u001b[0m\n\u001b[0;32m      7\u001b[0m \u001b[38;5;28;01mdef\u001b[39;00m \u001b[38;5;21mopen_file\u001b[39m(file_name):\n\u001b[1;32m----> 8\u001b[0m     open_file \u001b[38;5;241m=\u001b[39m \u001b[38;5;28;43mopen\u001b[39;49m\u001b[43m(\u001b[49m\u001b[43mfile_name\u001b[49m\u001b[43m,\u001b[49m\u001b[43m \u001b[49m\u001b[38;5;124;43m\"\u001b[39;49m\u001b[38;5;124;43mrb\u001b[39;49m\u001b[38;5;124;43m\"\u001b[39;49m\u001b[43m)\u001b[49m\n\u001b[0;32m      9\u001b[0m     Dataset \u001b[38;5;241m=\u001b[39m pickle\u001b[38;5;241m.\u001b[39mload(open_file)\n\u001b[0;32m     10\u001b[0m     open_file\u001b[38;5;241m.\u001b[39mclose()\n",
      "\u001b[1;31mFileNotFoundError\u001b[0m: [Errno 2] No such file or directory: 'fedavg Mnist noniid.pkl'"
     ]
    }
   ],
   "source": [
    "file_name=\"fedavg Mnist noniid.pkl\"\n",
    "fedavg=open_file(file_name)"
   ]
  },
  {
   "cell_type": "code",
   "execution_count": 61,
   "id": "2ede4cef",
   "metadata": {},
   "outputs": [
    {
     "data": {
      "image/png": "[encoded data removed]",
      "text/plain": [
       "<Figure size 576x432 with 1 Axes>"
      ]
     },
     "metadata": {
      "needs_background": "light"
     },
     "output_type": "display_data"
    }
   ],
   "source": [
    "import matplotlib.pyplot as plt\n",
    "import numpy as np\n",
    "import seaborn as sns\n",
    "\n",
    "# Sample data for two distributions\n",
    "data1 = np.random.normal(loc=0, scale=1, size=1000)\n",
    "data2 = np.random.normal(loc=2, scale=1, size=1000)\n",
    "data3 = np.random.normal(loc=1, scale=1, size=1000)\n",
    "\n",
    "# Create a histogram plot\n",
    "plt.figure(figsize=(8, 6))\n",
    "\n",
    "sns.histplot(noiseplot, color='blue', label='Nosiy', kde=True)\n",
    "sns.histplot(flipplot, color='orange', label='Flipping', kde=True)\n",
    "sns.histplot(shuffleplot, color='green', label='Shuffling', kde=True)\n",
    "sns.histplot(goodplot, color='red', label='Good', kde=True)\n",
    "\n",
    "plt.title('Two Distributions')\n",
    "plt.xlabel('Value')\n",
    "plt.ylabel('Frequency')\n",
    "plt.legend()\n",
    "plt.grid(True)\n",
    "plt.show()\n"
   ]
  },
  {
   "cell_type": "code",
   "execution_count": 35,
   "id": "6329772b",
   "metadata": {},
   "outputs": [
    {
     "name": "stdout",
     "output_type": "stream",
     "text": [
      "[402 403 405 408 410 411 412 415 416 427 434 437 438 439 447 448 449 453\n",
      " 454 466 470 476 479 483 492 493 494 495 499 504 507 511 514 515 517 519\n",
      " 521 522 528 529 533 538 548 551 556 558 559 560 563 565 569 571 575 577\n",
      " 580 589 592 594 597 599]\n"
     ]
    }
   ],
   "source": [
    "noise=fedavg[-2]+400\n",
    "print(noise)"
   ]
  },
  {
   "cell_type": "code",
   "execution_count": 36,
   "id": "ba1ef4e7",
   "metadata": {},
   "outputs": [
    {
     "name": "stdout",
     "output_type": "stream",
     "text": [
      "[  0   1   3   5   7  13  16  18  26  28  32  33  35  37  40  42  46  50\n",
      "  52  53  55  63  65  67  71  74  76  80  84  91  92  95  97  98  99 104\n",
      " 106 113 119 120 135 138 139 146 154 157 158 159 166 167 172 175 176 182\n",
      " 186 188 189 193 194 197]\n"
     ]
    }
   ],
   "source": [
    "shuffle=fedavg[-3]\n",
    "print(shuffle)"
   ]
  },
  {
   "cell_type": "code",
   "execution_count": 37,
   "id": "840ab121",
   "metadata": {},
   "outputs": [
    {
     "name": "stdout",
     "output_type": "stream",
     "text": [
      "[203 209 210 212 213 216 220 222 223 229 230 232 242 247 252 256 257 258\n",
      " 261 263 276 277 278 280 285 287 288 289 292 294 295 297 299 303 304 305\n",
      " 311 315 316 324 327 334 336 337 339 342 347 349 354 358 360 370 373 374\n",
      " 376 382 383 384 393 394]\n"
     ]
    }
   ],
   "source": [
    "flip=fedavg[-4]+200\n",
    "print(flip)"
   ]
  },
  {
   "cell_type": "code",
   "execution_count": 38,
   "id": "dd23c392",
   "metadata": {},
   "outputs": [],
   "source": [
    "loss_test=fedavg[3][-1]\n"
   ]
  },
  {
   "cell_type": "code",
   "execution_count": 39,
   "id": "44ab7d60",
   "metadata": {},
   "outputs": [],
   "source": [
    "loss_train=fedavg[5][-1]\n"
   ]
  },
  {
   "cell_type": "code",
   "execution_count": 56,
   "id": "c2f28f37",
   "metadata": {},
   "outputs": [],
   "source": [
    "noiseplot=[loss_train[i] for i in noise]\n",
    "flipplot=[loss_train[i] for i in flip]\n",
    "shuffleplot=[loss_train[i] for i in shuffle]"
   ]
  },
  {
   "cell_type": "code",
   "execution_count": 57,
   "id": "5ae5fd44",
   "metadata": {},
   "outputs": [],
   "source": [
    "\n",
    "result_list = []\n",
    "result_list.extend(shuffle)\n",
    "result_list.extend(flip)\n",
    "result_list.extend(noise)"
   ]
  },
  {
   "cell_type": "code",
   "execution_count": 59,
   "id": "f3850bc0",
   "metadata": {},
   "outputs": [],
   "source": [
    "goodplot = [loss_train[i] for i in range(len(loss_train)) if i not in result_list]"
   ]
  },
  {
   "cell_type": "code",
   "execution_count": null,
   "id": "7a2f605b",
   "metadata": {},
   "outputs": [],
   "source": []
  }
 ],
 "metadata": {
  "kernelspec": {
   "display_name": "Python 3 (ipykernel)",
   "language": "python",
   "name": "python3"
  },
  "language_info": {
   "codemirror_mode": {
    "name": "ipython",
    "version": 3
   },
   "file_extension": ".py",
   "mimetype": "text/x-python",
   "name": "python",
   "nbconvert_exporter": "python",
   "pygments_lexer": "ipython3",
   "version": "3.9.12"
  }
 },
 "nbformat": 4,
 "nbformat_minor": 5
}
